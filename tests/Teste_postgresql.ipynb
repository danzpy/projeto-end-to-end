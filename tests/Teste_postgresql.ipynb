{
 "cells": [
  {
   "cell_type": "code",
   "execution_count": 9,
   "metadata": {},
   "outputs": [
    {
     "name": "stdout",
     "output_type": "stream",
     "text": [
      "['/home/jovyan/work', '/tmp/spark-e9d05395-3ed8-404e-8b27-6964879ed933/userFiles-eaaa5d44-a51a-4ae2-bb03-675c7f33aae8/org.checkerframework_checker-qual-3.31.0.jar', '/tmp/spark-e9d05395-3ed8-404e-8b27-6964879ed933/userFiles-eaaa5d44-a51a-4ae2-bb03-675c7f33aae8/org.postgresql_postgresql-42.6.0.jar', '/tmp/spark-e9d05395-3ed8-404e-8b27-6964879ed933/userFiles-eaaa5d44-a51a-4ae2-bb03-675c7f33aae8', '/usr/local/spark/python/lib/py4j-0.10.9.7-src.zip', '/usr/local/spark/python', '/home/jovyan/work', '/opt/conda/lib/python311.zip', '/opt/conda/lib/python3.11', '/opt/conda/lib/python3.11/lib-dynload', '', '/opt/conda/lib/python3.11/site-packages']\n",
      "Diretório atual: /home/jovyan/work\n",
      "Arquivos e pastas no diretório atual:\n",
      "['.git', '.gitignore', 'config', 'docker-compose.yml', 'extract', 'poetry.lock', 'pyproject.toml', 'readme.md', 'tests']\n",
      "Caminho do arquivo .env: /home/jovyan/work/config/.env\n",
      "✅ O arquivo .env foi encontrado!\n"
     ]
    }
   ],
   "source": [
    "import os\n",
    "import sys\n",
    "\n",
    "print(sys.path)\n",
    "\n",
    "\n",
    "# Diretório atual\n",
    "current_dir = os.getcwd()\n",
    "print(f\"Diretório atual: {current_dir}\")\n",
    "\n",
    "# Listar arquivos e pastas dentro do diretório atual\n",
    "print(\"Arquivos e pastas no diretório atual:\")\n",
    "print(os.listdir(current_dir))\n",
    "\n",
    "# Caminho absoluto do arquivo .env que está sendo carregado\n",
    "dotenv_path = os.path.abspath(\"config/.env\")\n",
    "print(f\"Caminho do arquivo .env: {dotenv_path}\")\n",
    "\n",
    "# Verifica se o arquivo existe\n",
    "if os.path.exists(dotenv_path):\n",
    "    print(\"✅ O arquivo .env foi encontrado!\")\n",
    "else:\n",
    "    print(\"❌ O arquivo .env NÃO foi encontrado!\")\n"
   ]
  },
  {
   "cell_type": "code",
   "execution_count": 10,
   "metadata": {},
   "outputs": [
    {
     "name": "stdout",
     "output_type": "stream",
     "text": [
      "Caminhos no sys.path:\n",
      "/home/jovyan/work\n",
      "/tmp/spark-e9d05395-3ed8-404e-8b27-6964879ed933/userFiles-eaaa5d44-a51a-4ae2-bb03-675c7f33aae8/org.checkerframework_checker-qual-3.31.0.jar\n",
      "/tmp/spark-e9d05395-3ed8-404e-8b27-6964879ed933/userFiles-eaaa5d44-a51a-4ae2-bb03-675c7f33aae8/org.postgresql_postgresql-42.6.0.jar\n",
      "/tmp/spark-e9d05395-3ed8-404e-8b27-6964879ed933/userFiles-eaaa5d44-a51a-4ae2-bb03-675c7f33aae8\n",
      "/usr/local/spark/python/lib/py4j-0.10.9.7-src.zip\n",
      "/usr/local/spark/python\n",
      "/home/jovyan/work\n",
      "/opt/conda/lib/python311.zip\n",
      "/opt/conda/lib/python3.11\n",
      "/opt/conda/lib/python3.11/lib-dynload\n",
      "\n",
      "/opt/conda/lib/python3.11/site-packages\n",
      "\n",
      "Caminho do pacote 'os':\n",
      "/opt/conda/lib/python3.11/os.py\n",
      "\n",
      "Caminho do pacote 'pyspark':\n",
      "/usr/local/spark/python/pyspark/__init__.py\n"
     ]
    }
   ],
   "source": [
    "import sys\n",
    "import os\n",
    "import pyspark\n",
    "\n",
    "# Imprime todos os diretórios de busca do Python\n",
    "print(\"Caminhos no sys.path:\")\n",
    "for path in sys.path:\n",
    "    print(path)\n",
    "\n",
    "# Verifica onde os pacotes estão localizados\n",
    "print(\"\\nCaminho do pacote 'os':\")\n",
    "print(os.__file__)\n",
    "\n",
    "print(\"\\nCaminho do pacote 'pyspark':\")\n",
    "print(pyspark.__file__)\n"
   ]
  },
  {
   "cell_type": "code",
   "execution_count": 11,
   "metadata": {},
   "outputs": [
    {
     "data": {
      "text/plain": [
       "True"
      ]
     },
     "execution_count": 11,
     "metadata": {},
     "output_type": "execute_result"
    }
   ],
   "source": [
    "import os\n",
    "from pyspark.sql import SparkSession\n",
    "from pyspark.sql.types import StructType, StructField, IntegerType, StringType\n",
    "from dotenv import load_dotenv\n",
    "load_dotenv(os.path.join('config', '.env'))"
   ]
  },
  {
   "cell_type": "code",
   "execution_count": 12,
   "metadata": {},
   "outputs": [
    {
     "name": "stdout",
     "output_type": "stream",
     "text": [
      "Tabela 'exemplo' criada com sucesso!\n"
     ]
    }
   ],
   "source": [
    "# Obtém as variáveis de ambiente\n",
    "POSTGRES_USER = os.getenv(\"POSTGRES_USER\")\n",
    "POSTGRES_PASSWORD = os.getenv(\"POSTGRES_PASSWORD\")\n",
    "POSTGRES_DB = os.getenv(\"POSTGRES_DB\")\n",
    "POSTGRES_HOST = \"postgres_db\"  # Nome do serviço definido no docker-compose.yml\n",
    "POSTGRES_PORT = os.getenv(\"POSTGRES_PORT\", \"5432\")  # Porta padrão do PostgreSQL\n",
    "\n",
    "# Cria a sessão Spark\n",
    "spark = SparkSession.builder \\\n",
    "    .appName(\"PySparkPostgres\") \\\n",
    "    .config(\"spark.jars.packages\", \"org.postgresql:postgresql:42.6.0\") \\\n",
    "    .getOrCreate()\n",
    "\n",
    "# Define o esquema da tabela\n",
    "schema = StructType([\n",
    "    StructField(\"id\", IntegerType(), False),\n",
    "    StructField(\"nome\", StringType(), False),\n",
    "    StructField(\"idade\", IntegerType(), False)\n",
    "])\n",
    "\n",
    "# Cria um DataFrame com dados de exemplo\n",
    "dados = [(1, \"Alice\", 25), (2, \"Bob\", 30), (3, \"Carlos\", 22)]\n",
    "df = spark.createDataFrame(dados, schema=schema)\n",
    "\n",
    "# Configurações da conexão JDBC\n",
    "url = f\"jdbc:postgresql://{POSTGRES_HOST}:{POSTGRES_PORT}/{POSTGRES_DB}\"\n",
    "properties = {\n",
    "    \"user\": POSTGRES_USER,\n",
    "    \"password\": POSTGRES_PASSWORD,\n",
    "    \"driver\": \"org.postgresql.Driver\"\n",
    "}\n",
    "\n",
    "# Escreve os dados no PostgreSQL, criando a tabela \"exemplo\"\n",
    "df.write \\\n",
    "    .jdbc(url, \"exemplo\", mode=\"overwrite\", properties=properties)\n",
    "\n",
    "print(\"Tabela 'exemplo' criada com sucesso!\")\n",
    "\n",
    "# Finaliza a sessão Spark\n",
    "spark.stop()"
   ]
  }
 ],
 "metadata": {
  "kernelspec": {
   "display_name": "Python 3 (ipykernel)",
   "language": "python",
   "name": "python3"
  },
  "language_info": {
   "codemirror_mode": {
    "name": "ipython",
    "version": 3
   },
   "file_extension": ".py",
   "mimetype": "text/x-python",
   "name": "python",
   "nbconvert_exporter": "python",
   "pygments_lexer": "ipython3",
   "version": "3.11.5"
  }
 },
 "nbformat": 4,
 "nbformat_minor": 2
}
