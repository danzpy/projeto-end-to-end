{
 "cells": [
  {
   "cell_type": "code",
   "execution_count": 1,
   "metadata": {},
   "outputs": [
    {
     "name": "stdout",
     "output_type": "stream",
     "text": [
      "DataFrame Original:\n",
      "+-----+-----+\n",
      "| Nome|Idade|\n",
      "+-----+-----+\n",
      "| João|   28|\n",
      "|Maria|   35|\n",
      "|Pedro|   40|\n",
      "|  Ana|   23|\n",
      "+-----+-----+\n",
      "\n",
      "DataFrame Filtrado (Idade > 30):\n",
      "+-----+-----+\n",
      "| Nome|Idade|\n",
      "+-----+-----+\n",
      "|Maria|   35|\n",
      "|Pedro|   40|\n",
      "+-----+-----+\n",
      "\n"
     ]
    }
   ],
   "source": [
    "from pyspark.sql import SparkSession\n",
    "\n",
    "# Criar uma SparkSession\n",
    "spark = SparkSession.builder \\\n",
    "    .appName(\"Exemplo PySpark\") \\\n",
    "    .getOrCreate()\n",
    "\n",
    "# Criar um DataFrame de exemplo\n",
    "data = [\n",
    "    (\"João\", 28),\n",
    "    (\"Maria\", 35),\n",
    "    (\"Pedro\", 40),\n",
    "    (\"Ana\", 23)\n",
    "]\n",
    "columns = [\"Nome\", \"Idade\"]\n",
    "\n",
    "df = spark.createDataFrame(data, columns)\n",
    "\n",
    "# Mostrar o DataFrame original\n",
    "print(\"DataFrame Original:\")\n",
    "df.show()\n",
    "\n",
    "# Filtrar pessoas com idade maior que 30\n",
    "df_filtrado = df.filter(df.Idade > 30)\n",
    "\n",
    "# Mostrar o DataFrame filtrado\n",
    "print(\"DataFrame Filtrado (Idade > 30):\")\n",
    "df_filtrado.show()\n"
   ]
  }
 ],
 "metadata": {
  "kernelspec": {
   "display_name": "Python 3 (ipykernel)",
   "language": "python",
   "name": "python3"
  }
 },
 "nbformat": 4,
 "nbformat_minor": 2
}
